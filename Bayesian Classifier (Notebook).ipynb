{
 "metadata": {
  "name": "",
  "signature": "sha256:a4a7f116d3ee220c942e84750917cddad465ede79f1e742326e2d16c414783da"
 },
 "nbformat": 3,
 "nbformat_minor": 0,
 "worksheets": [
  {
   "cells": [
    {
     "cell_type": "code",
     "collapsed": false,
     "input": [
      "#!/usr/bin/env python\n",
      "# -*- coding: utf-8 -*-\n",
      "from BayesianClassifier import BayesianClassifier\n",
      "import numpy as np\n",
      "import matplotlib.pyplot as plt\n",
      "import time\n",
      "from decimal import Decimal\n",
      "%matplotlib inline"
     ],
     "language": "python",
     "metadata": {},
     "outputs": [],
     "prompt_number": 1
    },
    {
     "cell_type": "code",
     "collapsed": false,
     "input": [
      "'''\n",
      "Please set this values to run an entire test with the given parameters.\n",
      "Note: The original experiment was runned with the following values \n",
      "(an entire run with these values on an processor intel i7 4770k @ 4 GHz takes approximately 2 hours per lambda interval):\n",
      "\n",
      "-LOSS_PARAMETER_INIT= 0, 0.999, 0.999999999 (the comma separated values means a variation between this values)\n",
      "-LOSS_PARAMETER_END= 1\n",
      "-ITERATIONS_NUMBER= 1000 \n",
      "-TESTS_NUMBER=100\n",
      "-PERCENTAGE_OF_DATA_FOR_TRAINING=80\n",
      "'''\n",
      "\n",
      "#The interval to explore the optimal LOSS_PARAMETER (lambda) LOSS_PARAMETER by definition lies between 0 and 1\n",
      "LOSS_PARAMETER_INIT= Decimal(0.999999999) #rejection constant init                         \n",
      "LOSS_PARAMETER_END=  Decimal(1) #rejection constant end\n",
      "\n",
      "\n",
      "ITERATIONS_NUMBER=100 #number of partitions of the above interval to explore the optimal lambda-value\n",
      "\n",
      "TESTS_NUMBER=12 #number of times to classify per time, \n",
      "                #the aritmetic average for percentual confusion matrix depends of this value, \n",
      "                #bigger menas more accurate, but costly \n",
      "\n",
      "PERCENTAGE_OF_DATA_FOR_TRAINING=80 #percentual amount of data used for train the model,\n",
      "                                   #the data is splitted by this percentage by random sampling"
     ],
     "language": "python",
     "metadata": {},
     "outputs": [],
     "prompt_number": 8
    },
    {
     "cell_type": "code",
     "collapsed": false,
     "input": [
      "DATAFILE='./encuesta.csv'\n",
      "\n",
      "dataSet=None  #all recopiled data\n",
      "\n",
      "#global variables\n",
      "accumulatedConfMatrix=None\n",
      "lambdaVsNC0=lambdaVsNC1=lambdaVsNC2=None\n",
      "lambdaVsCor0=lambdaVsCor1=lambdaVsCor2=None\n",
      "lambdaVsInCor0=lambdaVsInCor1=lambdaVsInCor2=None\n",
      "lambdaVsSc=None\n",
      "class0=class1=class2=None\n",
      "\n",
      "\n",
      "# Method that load data from csv and store them in a numpy array\n",
      "def loadData():\n",
      "    data = np.genfromtxt(DATAFILE, delimiter=',')\n",
      "    return (data)\n",
      "\n",
      "#Method that classify all the data only one time\n",
      "def classify(LOSS_PARAMETER):\n",
      "    global accumulatedConfMatrix,PERCENTAGE_OF_DATA_FOR_TRAINING,dataSet\n",
      "    cl=BayesianClassifier(LOSS_PARAMETER,PERCENTAGE_OF_DATA_FOR_TRAINING)#class instance\n",
      "    class0=cl.extractClass(dataSet, 0)#extract data for each class\n",
      "    class1=cl.extractClass(dataSet, 1)\n",
      "    class2=cl.extractClass(dataSet, 2)\n",
      "    [trainingSet0,testSet0]=cl.extractTrainingSet(class0)#separate data for each training \n",
      "    [trainingSet1,testSet1]=cl.extractTrainingSet(class1)\n",
      "    [trainingSet2,testSet2]=cl.extractTrainingSet(class2)\n",
      "    \n",
      "    \n",
      "    [cl.mean0,cl.covMatrix0]=cl.getParameters(trainingSet0)#the parameters of a multivariate distribution are calculated for each class (mean, covariance)\n",
      "    [cl.mean1,cl.covMatrix1]=cl.getParameters(trainingSet1)\n",
      "    [cl.mean2,cl.covMatrix2]=cl.getParameters(trainingSet2)\n",
      "    \n",
      "    cl.confMatrix=np.zeros((3,4), dtype=np.int)    #initialize confusion matrix\n",
      "    \n",
      "    cl.priorProbability0=cl.priorProbability(0,[trainingSet0,trainingSet1,trainingSet2]) #calculate the prior probability for each class\n",
      "    cl.priorProbability1=cl.priorProbability(1,[trainingSet0,trainingSet1,trainingSet2])\n",
      "    cl.priorProbability2=cl.priorProbability(2,[trainingSet0,trainingSet1,trainingSet2])\n",
      "    \n",
      "    testSetsVector=[testSet0,testSet1,testSet2]\n",
      "    \n",
      "    cl.classify(testSetsVector) #classify!\n",
      "    accumulatedConfMatrix=np.add(accumulatedConfMatrix,cl.confMatrix) #acumulate results\n",
      "    \n",
      "\n",
      "#Calculate the percentual confusion matrix to one classification\n",
      "def percentualConfusionMatrix():\n",
      "    n=np.sum(accumulatedConfMatrix,axis=1).astype(float)\n",
      "    return ((accumulatedConfMatrix.T/n)*100).T\n",
      "    \n",
      "\n",
      "#Return the percentage of NonClassified data or Refused data given a loss parameter\n",
      "def lambdaVsNC(percentualConfMatrix,lossParameter,classNumber):\n",
      "    return np.array([lossParameter,percentualConfMatrix[classNumber,3]])\n",
      "\n",
      "#Return the percentage of Correctly Classified Data given a loss parameter\n",
      "def lambdaVsCor(percentualConfMatrix,lossParameter,classNumber):\n",
      "    return np.array([lossParameter,percentualConfMatrix[classNumber,classNumber]])\n",
      "\n",
      "#Return the percentage of Incorrectly Classified Data given a loss parameter\n",
      "def lambdaVsInCor(percentualConfMatrix,lossParameter,classNumber):\n",
      "    aux=100-percentualConfMatrix[classNumber,classNumber]-percentualConfMatrix[classNumber,3]\n",
      "    return np.array([lossParameter,aux])\n",
      "\n",
      "#Return the score given a loss parameter\n",
      "def lambdaVsScore(percentualConfMatrix,lossParameter):\n",
      "    incorrect=Decimal(str(lambdaVsInCor(percentualConfMatrix,lossParameter,2)[1]))\n",
      "    rejected=Decimal(str(lambdaVsNC(percentualConfMatrix,lossParameter,2)[1]))\n",
      "    sum=incorrect+rejected*Decimal(0.5)\n",
      "    return np.array([lossParameter,1/sum])\n",
      "    \n",
      "#Run an complete test\n",
      "#-for every delta-lambda (the variation of the loss parameter variable) \n",
      "def runAnalisis():\n",
      "    totalTime=time.time()\n",
      "    global LOSS_PARAMETER_INIT,LOSS_PARAMETER_END,ITERATIONS_NUMBER,accumulatedConfMatrix,lambdaVsNC0,lambdaVsNC1,lambdaVsNC2,lambdaVsCor0,lambdaVsCor1,lambdaVsCor2,lambdaVsInCor0,lambdaVsInCor1,lambdaVsInCor2,lambdaVsSc\n",
      "    LOSS_PARAMETER=LOSS_PARAMETER_INIT\n",
      "    INCREMENT=(LOSS_PARAMETER_END-LOSS_PARAMETER_INIT)/ITERATIONS_NUMBER\n",
      "    print INCREMENT,\"increment\"\n",
      "    i=0\n",
      "    while LOSS_PARAMETER<=LOSS_PARAMETER_END:\n",
      "\n",
      "        accumulatedConfMatrix=np.zeros((3,4), dtype=np.longdouble) #restart acumulated Confusion Matrix\n",
      "        millis = int(round(time.time() * 1000))\n",
      "        for j in range(TESTS_NUMBER):\n",
      "            classify(LOSS_PARAMETER)\n",
      "        print i+1, \"of\",ITERATIONS_NUMBER    \n",
      "        print \"time taken=\",int(round(time.time() * 1000))-millis, \"ms\"\n",
      "        percentualMatrix=percentualConfusionMatrix()\n",
      "        \n",
      "        print percentualMatrix,\"\\n --------------------------\\n\"\n",
      "        \n",
      "        if(lambdaVsNC0==None or lambdaVsCor0==None):\n",
      "            lambdaVsNC0=lambdaVsNC(percentualMatrix,LOSS_PARAMETER,0)#matrix not classify\n",
      "            lambdaVsNC1=lambdaVsNC(percentualMatrix,LOSS_PARAMETER,1)\n",
      "            lambdaVsNC2=lambdaVsNC(percentualMatrix,LOSS_PARAMETER,2)\n",
      "            lambdaVsCor0=lambdaVsCor(percentualMatrix,LOSS_PARAMETER,0)#matrix successfully classified\n",
      "            lambdaVsCor1=lambdaVsCor(percentualMatrix,LOSS_PARAMETER,1)\n",
      "            lambdaVsCor2=lambdaVsCor(percentualMatrix,LOSS_PARAMETER,2)\n",
      "            lambdaVsInCor0=lambdaVsInCor(percentualMatrix,LOSS_PARAMETER,0)#matrix unsuccessfully classified\n",
      "            lambdaVsInCor1=lambdaVsInCor(percentualMatrix,LOSS_PARAMETER,1)\n",
      "            lambdaVsInCor2=lambdaVsInCor(percentualMatrix,LOSS_PARAMETER,2)\n",
      "            lambdaVsSc=lambdaVsScore(percentualMatrix,LOSS_PARAMETER)\n",
      "        else:\n",
      "            lambdaVsNC0=np.vstack((lambdaVsNC0, lambdaVsNC(percentualMatrix,LOSS_PARAMETER,0)))#matrix not classify\n",
      "            lambdaVsNC1=np.vstack((lambdaVsNC1, lambdaVsNC(percentualMatrix,LOSS_PARAMETER,1)))\n",
      "            lambdaVsNC2=np.vstack((lambdaVsNC2, lambdaVsNC(percentualMatrix,LOSS_PARAMETER,2)))\n",
      "            lambdaVsCor0=np.vstack((lambdaVsCor0, lambdaVsCor(percentualMatrix,LOSS_PARAMETER,0)))#matrix successfully classified\n",
      "            lambdaVsCor1=np.vstack((lambdaVsCor1, lambdaVsCor(percentualMatrix,LOSS_PARAMETER,1)))\n",
      "            lambdaVsCor2=np.vstack((lambdaVsCor2, lambdaVsCor(percentualMatrix,LOSS_PARAMETER,2)))\n",
      "            lambdaVsInCor0=np.vstack((lambdaVsInCor0, lambdaVsInCor(percentualMatrix,LOSS_PARAMETER,0)))#matrix unsuccessfully classified\n",
      "            lambdaVsInCor1=np.vstack((lambdaVsInCor1, lambdaVsInCor(percentualMatrix,LOSS_PARAMETER,1)))\n",
      "            lambdaVsInCor2=np.vstack((lambdaVsInCor2, lambdaVsInCor(percentualMatrix,LOSS_PARAMETER,2)))\n",
      "            lambdaVsSc=np.vstack((lambdaVsSc, lambdaVsScore(percentualMatrix,LOSS_PARAMETER)))\n",
      "        print LOSS_PARAMETER, \"loss parameter (lambda)\"\n",
      "        LOSS_PARAMETER+=INCREMENT\n",
      "        i+=1\n",
      "\n",
      "    diff=int(round(time.time()-totalTime))\n",
      "    hours, minutes, seconds = diff/3600 ,(diff / 60)%60, diff % 60\n",
      "    \n",
      "    print \"**********\\nTotal Time Taken: \"+ str(hours) + \" h, \"+str(minutes)+ \" m, \"+str(seconds)+\" secs\"\n",
      "        \n",
      "#Show in graphical mode the results of the experiment\n",
      "def plotAnalisis():\n",
      "    plt.plot(lambdaVsNC0[:,0],lambdaVsNC0[:,1],label='Clase 0 (Bajo Riesgo)')\n",
      "    plt.plot(lambdaVsNC1[:,0],lambdaVsNC1[:,1],label='Clase 1 (Riesgo Moderado)')\n",
      "    plt.plot(lambdaVsNC2[:,0],lambdaVsNC2[:,1],label='Clase 2 (Alto Riesgo)')\n",
      "    plt.title('$\\lambda$ vs Region de rechazo')\n",
      "    plt.xlabel('Parametro $\\lambda$ ')\n",
      "    plt.ylabel('Rechazos (%)')\n",
      "    plt.legend(loc='upper center', bbox_to_anchor=(0.5, -0.05),fancybox=True, shadow=True, ncol=5)\n",
      "    plt.grid()\n",
      "    plt.show()\n",
      "    \n",
      "    print('\\n\\n')\n",
      "    \n",
      "    plt.plot(lambdaVsCor0[:,0],lambdaVsCor0[:,1],label='Clase 0 (Bajo Riesgo)')\n",
      "    plt.plot(lambdaVsCor1[:,0],lambdaVsCor1[:,1],label='Clase 1 (Riesgo Moderado)')\n",
      "    plt.plot(lambdaVsCor2[:,0],lambdaVsCor2[:,1],label='Clase 2 (Alto Riesgo)')\n",
      "    plt.title('$\\lambda$ vs Aciertos')\n",
      "    plt.xlabel('Parametro $\\lambda$ ')\n",
      "    plt.ylabel('Aciertos (%)')\n",
      "    plt.legend(loc='upper center', bbox_to_anchor=(0.5, -0.05),fancybox=True, shadow=True, ncol=5)\n",
      "    plt.grid()\n",
      "    plt.show()\n",
      "    \n",
      "    print('\\n\\n')\n",
      "    \n",
      "    plt.plot(lambdaVsInCor0[:,0],lambdaVsInCor0[:,1],label='Clase 0 (Bajo Riesgo)')\n",
      "    plt.plot(lambdaVsInCor1[:,0],lambdaVsInCor1[:,1],label='Clase 1 (Riesgo Moderado)')\n",
      "    plt.plot(lambdaVsInCor2[:,0],lambdaVsInCor2[:,1],label='Clase 2 (Alto Riesgo)')\n",
      "    plt.title('$\\lambda$ vs Fallos')\n",
      "    plt.xlabel('Parametro $\\lambda$ ')\n",
      "    plt.ylabel('Fallos (%)')\n",
      "    plt.legend(loc='upper center', bbox_to_anchor=(0.5, -0.05),fancybox=True, shadow=True, ncol=5)\n",
      "    plt.grid()\n",
      "    plt.show()\n",
      "    \n",
      "    print('\\n\\n')\n",
      "    \n",
      "\n",
      "    plt.plot(lambdaVsSc[:,0],lambdaVsSc[:,1],label='Clase 2 (Alto Riesgo)')\n",
      "    plt.title('$\\lambda$ vs Score')\n",
      "    plt.xlabel('Parametro $\\lambda$ ')\n",
      "    plt.ylabel('Score')\n",
      "    plt.legend(loc='upper center', bbox_to_anchor=(0.5, -0.05),fancybox=True, shadow=True, ncol=5)\n",
      "    plt.grid()\n",
      "    plt.show()\n",
      "    \n",
      "#Save the results in files\n",
      "def saveDataFiles():\n",
      "    np.savetxt(\"lambdaVsNC0.csv\", lambdaVsNC0,fmt='%0.23f', delimiter=\",\")\n",
      "    np.savetxt(\"lambdaVsNC1.csv\", lambdaVsNC1,fmt='%0.23f', delimiter=\",\")\n",
      "    np.savetxt(\"lambdaVsNC2.csv\", lambdaVsNC2,fmt='%0.23f', delimiter=\",\")    \n",
      "    np.savetxt(\"lambdaVsCor0.csv\", lambdaVsCor0,fmt='%0.23f', delimiter=\",\")\n",
      "    np.savetxt(\"lambdaVsCor1.csv\", lambdaVsCor1,fmt='%0.23f', delimiter=\",\")\n",
      "    np.savetxt(\"lambdaVsCor2.csv\", lambdaVsCor2,fmt='%0.23f', delimiter=\",\")\n",
      "    np.savetxt(\"lambdaVsInCor0.csv\", lambdaVsInCor0,fmt='%0.23f', delimiter=\",\")\n",
      "    np.savetxt(\"lambdaVsInCor1.csv\", lambdaVsInCor1,fmt='%0.23f', delimiter=\",\")\n",
      "    np.savetxt(\"lambdaVsInCor2.csv\", lambdaVsInCor2,fmt='%0.23f', delimiter=\",\")\n",
      "    np.savetxt(\"lambdaVsSc.csv\", lambdaVsSc,fmt='%0.23f', delimiter=\",\")\n",
      "\n",
      "    \n",
      "        \n",
      "    "
     ],
     "language": "python",
     "metadata": {},
     "outputs": [],
     "prompt_number": 9
    },
    {
     "cell_type": "code",
     "collapsed": false,
     "input": [
      "dataSet=loadData() #load the dataset\n",
      "runAnalisis() #run the experiment\n",
      "#saveDataFiles() #save results in files, dissabled for online version"
     ],
     "language": "python",
     "metadata": {},
     "outputs": [
      {
       "output_type": "stream",
       "stream": "stdout",
       "text": [
        "9.999999717180685365747194737E-12 increment\n",
        "1"
       ]
      },
      {
       "output_type": "stream",
       "stream": "stdout",
       "text": [
        " of 100\n",
        "time taken= 1286 ms\n",
        "[[ 85.294118  2.4509804  0.0  12.254902]\n",
        " [ 3.3602151  87.768817  4.3010753  4.5698925]\n",
        " [ 0.0  8.5227273  79.545455  11.931818]] \n",
        " --------------------------\n",
        "\n",
        "0.99999999900000002828193146342528052628040313720703125 loss parameter (lambda)\n",
        "2"
       ]
      },
      {
       "output_type": "stream",
       "stream": "stdout",
       "text": [
        " of 100\n",
        "time taken= 956 ms\n",
        "[[ 84.313725  3.9215686  0.0  11.764706]\n",
        " [ 4.1666667  83.870968  5.3763441  6.5860215]\n",
        " [ 0.0  8.3333333  78.598485  13.068182]] \n",
        " --------------------------\n",
        "\n",
        "0.9999999990100000279991121488 loss parameter (lambda)\n",
        "3"
       ]
      },
      {
       "output_type": "stream",
       "stream": "stdout",
       "text": [
        " of 100\n",
        "time taken= 1639 ms\n",
        "[[ 82.107843  3.4313725  0.0  14.460784]\n",
        " [ 5.1075269  85.752688  4.5698925  4.5698925]\n",
        " [ 0.0  6.6287879  82.386364  10.984848]] \n",
        " --------------------------\n",
        "\n",
        "0.9999999990200000277162928342 loss parameter (lambda)\n",
        "4"
       ]
      },
      {
       "output_type": "stream",
       "stream": "stdout",
       "text": [
        " of 100\n",
        "time taken= 976 ms\n",
        "[[ 75.245098  7.8431373  0.0  16.911765]\n",
        " [ 2.8225806  86.827957  5.5107527  4.8387097]\n",
        " [ 0.0  7.9545455  83.522727  8.5227273]] \n",
        " --------------------------\n",
        "\n",
        "0.9999999990300000274334735196 loss parameter (lambda)\n",
        "5"
       ]
      },
      {
       "output_type": "stream",
       "stream": "stdout",
       "text": [
        " of 100\n",
        "time taken= 1717 ms\n",
        "[[ 83.333333  4.1666667  0.0  12.5]\n",
        " [ 4.0322581  87.903226  4.7043011  3.3602151]\n",
        " [ 0.0  8.7121212  79.356061  11.931818]] \n",
        " --------------------------\n",
        "\n",
        "0.9999999990400000271506542050 loss parameter (lambda)\n",
        "6"
       ]
      },
      {
       "output_type": "stream",
       "stream": "stdout",
       "text": [
        " of 100\n",
        "time taken= 986 ms\n",
        "[[ 79.166667  6.372549  0.0  14.460784]\n",
        " [ 3.2258065  88.709677  4.5698925  3.4946237]\n",
        " [ 0.0  7.1969697  83.712121  9.0909091]] \n",
        " --------------------------\n",
        "\n",
        "0.9999999990500000268678348904 loss parameter (lambda)\n",
        "7"
       ]
      },
      {
       "output_type": "stream",
       "stream": "stdout",
       "text": [
        " of 100\n",
        "time taken= 1585 ms\n",
        "[[ 75.980392  7.1078431  0.0  16.911765]\n",
        " [ 3.6290323  89.112903  3.7634409  3.4946237]\n",
        " [ 0.0  8.3333333  78.787879  12.878788]] \n",
        " --------------------------\n",
        "\n",
        "0.9999999990600000265850155758 loss parameter (lambda)\n",
        "8"
       ]
      },
      {
       "output_type": "stream",
       "stream": "stdout",
       "text": [
        " of 100\n",
        "time taken= 1020 ms\n",
        "[[ 81.372549  4.9019608  0.0  13.72549]\n",
        " [ 4.0322581  85.752688  5.2419355  4.9731183]\n",
        " [ 0.0  8.5227273  82.386364  9.0909091]] \n",
        " --------------------------\n",
        "\n",
        "0.9999999990700000263021962612 loss parameter (lambda)\n",
        "9"
       ]
      },
      {
       "output_type": "stream",
       "stream": "stdout",
       "text": [
        " of 100\n",
        "time taken= 1757 ms\n",
        "[[ 80.637255  5.3921569  0.0  13.970588]\n",
        " [ 5.1075269  85.080645  5.1075269  4.7043011]\n",
        " [ 0.0  9.469697  78.977273  11.55303]] \n",
        " --------------------------\n",
        "\n",
        "0.9999999990800000260193769466 loss parameter (lambda)\n",
        "10"
       ]
      },
      {
       "output_type": "stream",
       "stream": "stdout",
       "text": [
        " of 100\n",
        "time taken= 943 ms\n",
        "[[ 82.843137  4.4117647  0.0  12.745098]\n",
        " [ 4.0322581  86.155914  5.2419355  4.5698925]\n",
        " [ 0.0  10.416667  77.272727  12.310606]] \n",
        " --------------------------\n",
        "\n",
        "0.9999999990900000257365576320 loss parameter (lambda)\n",
        "11"
       ]
      },
      {
       "output_type": "stream",
       "stream": "stdout",
       "text": [
        " of 100\n",
        "time taken= 957 ms\n",
        "[[ 83.333333  4.6568627  0.0  12.009804]\n",
        " [ 4.9731183  84.677419  5.5107527  4.8387097]\n",
        " [ 0.0  8.7121212  81.25  10.037879]] \n",
        " --------------------------\n",
        "\n",
        "0.9999999991000000254537383174 loss parameter (lambda)\n",
        "12"
       ]
      },
      {
       "output_type": "stream",
       "stream": "stdout",
       "text": [
        " of 100\n",
        "time taken= 955 ms\n",
        "[[ 81.127451  4.9019608  0.0  13.970588]\n",
        " [ 3.3602151  88.306452  4.8387097  3.4946237]\n",
        " [ 0.0  9.8484848  77.651515  12.5]] \n",
        " --------------------------\n",
        "\n",
        "0.9999999991100000251709190028 loss parameter (lambda)\n",
        "13"
       ]
      },
      {
       "output_type": "stream",
       "stream": "stdout",
       "text": [
        " of 100\n",
        "time taken= 1106 ms\n",
        "[[ 83.088235  5.3921569  0.0  11.519608]\n",
        " [ 3.4946237  86.155914  4.9731183  5.3763441]\n",
        " [ 0.0  9.280303  78.598485  12.121212]] \n",
        " --------------------------\n",
        "\n",
        "0.9999999991200000248880996882 loss parameter (lambda)\n",
        "14"
       ]
      },
      {
       "output_type": "stream",
       "stream": "stdout",
       "text": [
        " of 100\n",
        "time taken= 976 ms\n",
        "[[ 79.656863  3.6764706  0.0  16.666667]\n",
        " [ 3.7634409  86.021505  4.1666667  6.0483871]\n",
        " [ 0.0  9.6590909  79.924242  10.416667]] \n",
        " --------------------------\n",
        "\n",
        "0.9999999991300000246052803736 loss parameter (lambda)\n",
        "15"
       ]
      },
      {
       "output_type": "stream",
       "stream": "stdout",
       "text": [
        " of 100\n",
        "time taken= 868 ms\n",
        "[[ 81.862745  6.6176471  0.0  11.519608]\n",
        " [ 4.3010753  85.61828  5.2419355  4.8387097]\n",
        " [ 0.0  8.7121212  79.734848  11.55303]] \n",
        " --------------------------\n",
        "\n",
        "0.9999999991400000243224610590 loss parameter (lambda)\n",
        "16"
       ]
      },
      {
       "output_type": "stream",
       "stream": "stdout",
       "text": [
        " of 100\n",
        "time taken= 1007 ms\n",
        "[[ 85.294118  2.6960784  0.0  12.009804]\n",
        " [ 4.3010753  88.037634  3.3602151  4.3010753]\n",
        " [ 0.0  7.7651515  80.113636  12.121212]] \n",
        " --------------------------\n",
        "\n",
        "0.9999999991500000240396417444 loss parameter (lambda)\n",
        "17"
       ]
      },
      {
       "output_type": "stream",
       "stream": "stdout",
       "text": [
        " of 100\n",
        "time taken= 1326 ms\n",
        "[[ 82.843137  4.4117647  0.0  12.745098]\n",
        " [ 4.9731183  84.811828  4.7043011  5.5107527]\n",
        " [ 0.0  7.9545455  81.818182  10.227273]] \n",
        " --------------------------\n",
        "\n",
        "0.9999999991600000237568224298 loss parameter (lambda)\n",
        "18"
       ]
      },
      {
       "output_type": "stream",
       "stream": "stdout",
       "text": [
        " of 100\n",
        "time taken= 930 ms\n",
        "[[ 81.617647  5.1470588  0.0  13.235294]\n",
        " [ 4.1666667  87.365591  4.1666667  4.3010753]\n",
        " [ 0.0  10.416667  77.840909  11.742424]] \n",
        " --------------------------\n",
        "\n",
        "0.9999999991700000234740031152 loss parameter (lambda)\n",
        "19"
       ]
      },
      {
       "output_type": "stream",
       "stream": "stdout",
       "text": [
        " of 100\n",
        "time taken= 866 ms\n",
        "[[ 81.862745  5.8823529  0.0  12.254902]\n",
        " [ 4.1666667  84.946237  5.7795699  5.1075269]\n",
        " [ 0.0  8.1439394  81.060606  10.795455]] \n",
        " --------------------------\n",
        "\n",
        "0.9999999991800000231911838006 loss parameter (lambda)\n",
        "20"
       ]
      },
      {
       "output_type": "stream",
       "stream": "stdout",
       "text": [
        " of 100\n",
        "time taken= 903 ms\n",
        "[[ 81.127451  3.9215686  0.0  14.95098]\n",
        " [ 3.6290323  88.172043  5.1075269  3.0913978]\n",
        " [ 0.0  7.0075758  80.681818  12.310606]] \n",
        " --------------------------\n",
        "\n",
        "0.9999999991900000229083644860 loss parameter (lambda)\n",
        "21"
       ]
      },
      {
       "output_type": "stream",
       "stream": "stdout",
       "text": [
        " of 100\n",
        "time taken= 927 ms\n",
        "[[ 81.372549  4.9019608  0.0  13.72549]\n",
        " [ 2.4193548  90.994624  4.0322581  2.5537634]\n",
        " [ 0.0  10.606061  79.166667  10.227273]] \n",
        " --------------------------\n",
        "\n",
        "0.9999999992000000226255451714 loss parameter (lambda)\n",
        "22"
       ]
      },
      {
       "output_type": "stream",
       "stream": "stdout",
       "text": [
        " of 100\n",
        "time taken= 996 ms\n",
        "[[ 85.04902  4.4117647  0.0  10.539216]\n",
        " [ 4.1666667  87.096774  4.0322581  4.7043011]\n",
        " [ 0.0  5.8712121  83.901515  10.227273]] \n",
        " --------------------------\n",
        "\n",
        "0.9999999992100000223427258568 loss parameter (lambda)\n",
        "23"
       ]
      },
      {
       "output_type": "stream",
       "stream": "stdout",
       "text": [
        " of 100\n",
        "time taken= 921 ms\n",
        "[[ 83.823529  3.6764706  0.0  12.5]\n",
        " [ 3.3602151  87.231183  5.2419355  4.1666667]\n",
        " [ 0.0  10.984848  79.924242  9.0909091]] \n",
        " --------------------------\n",
        "\n",
        "0.9999999992200000220599065422 loss parameter (lambda)\n",
        "24"
       ]
      },
      {
       "output_type": "stream",
       "stream": "stdout",
       "text": [
        " of 100\n",
        "time taken= 1084 ms\n",
        "[[ 83.333333  5.3921569  0.0  11.27451]\n",
        " [ 3.7634409  87.365591  4.1666667  4.7043011]\n",
        " [ 0.0  9.6590909  79.356061  10.984848]] \n",
        " --------------------------\n",
        "\n",
        "0.9999999992300000217770872276 loss parameter (lambda)\n",
        "25"
       ]
      },
      {
       "output_type": "stream",
       "stream": "stdout",
       "text": [
        " of 100\n",
        "time taken= 1159 ms\n",
        "[[ 80.882353  5.3921569  0.0  13.72549]\n",
        " [ 2.9569892  89.650538  4.7043011  2.688172]\n",
        " [ 0.0  10.227273  76.136364  13.636364]] \n",
        " --------------------------\n",
        "\n",
        "0.9999999992400000214942679130 loss parameter (lambda)\n",
        "26"
       ]
      },
      {
       "output_type": "stream",
       "stream": "stdout",
       "text": [
        " of 100\n",
        "time taken= 866 ms\n",
        "[[ 79.411765  3.6764706  0.0  16.911765]\n",
        " [ 2.688172  86.55914  6.3172043  4.4354839]\n",
        " [ 0.0  8.7121212  80.492424  10.795455]] \n",
        " --------------------------\n",
        "\n",
        "0.9999999992500000212114485984 loss parameter (lambda)\n",
        "27"
       ]
      },
      {
       "output_type": "stream",
       "stream": "stdout",
       "text": [
        " of 100\n",
        "time taken= 973 ms\n",
        "[[ 80.392157  4.4117647  0.0  15.196078]\n",
        " [ 3.8978495  86.290323  6.3172043  3.4946237]\n",
        " [ 0.0  8.9015152  80.30303  10.795455]] \n",
        " --------------------------\n",
        "\n",
        "0.9999999992600000209286292838 loss parameter (lambda)\n",
        "28"
       ]
      },
      {
       "output_type": "stream",
       "stream": "stdout",
       "text": [
        " of 100\n",
        "time taken= 1077 ms\n",
        "[[ 82.352941  3.6764706  0.0  13.970588]\n",
        " [ 4.5698925  86.962366  4.1666667  4.3010753]\n",
        " [ 0.0  7.9545455  75.378788  16.666667]] \n",
        " --------------------------\n",
        "\n",
        "0.9999999992700000206458099692 loss parameter (lambda)\n",
        "29"
       ]
      },
      {
       "output_type": "stream",
       "stream": "stdout",
       "text": [
        " of 100\n",
        "time taken= 1246 ms\n",
        "[[ 84.558824  4.1666667  0.0  11.27451]\n",
        " [ 3.3602151  87.634409  4.3010753  4.7043011]\n",
        " [ 0.0  7.7651515  82.386364  9.8484848]] \n",
        " --------------------------\n",
        "\n",
        "0.9999999992800000203629906546 loss parameter (lambda)\n",
        "30"
       ]
      },
      {
       "output_type": "stream",
       "stream": "stdout",
       "text": [
        " of 100\n",
        "time taken= 1404 ms\n",
        "[[ 83.088235  4.4117647  0.0  12.5]\n",
        " [ 4.1666667  86.55914  6.3172043  2.9569892]\n",
        " [ 0.0  7.9545455  79.734848  12.310606]] \n",
        " --------------------------\n",
        "\n",
        "0.9999999992900000200801713400 loss parameter (lambda)\n",
        "31"
       ]
      },
      {
       "output_type": "stream",
       "stream": "stdout",
       "text": [
        " of 100\n",
        "time taken= 1167 ms\n",
        "[[ 80.637255  4.1666667  0.0  15.196078]\n",
        " [ 3.6290323  88.306452  3.3602151  4.7043011]\n",
        " [ 0.0  10.984848  75.568182  13.44697]] \n",
        " --------------------------\n",
        "\n",
        "0.9999999993000000197973520254 loss parameter (lambda)\n",
        "32"
       ]
      },
      {
       "output_type": "stream",
       "stream": "stdout",
       "text": [
        " of 100\n",
        "time taken= 863 ms\n",
        "[[ 80.637255  5.1470588  0.0  14.215686]\n",
        " [ 4.7043011  86.55914  4.5698925  4.1666667]\n",
        " [ 0.0  10.416667  77.840909  11.742424]] \n",
        " --------------------------\n",
        "\n",
        "0.9999999993100000195145327108 loss parameter (lambda)\n",
        "33"
       ]
      },
      {
       "output_type": "stream",
       "stream": "stdout",
       "text": [
        " of 100\n",
        "time taken= 911 ms\n",
        "[[ 82.107843  6.6176471  0.0  11.27451]\n",
        " [ 3.4946237  89.784946  4.5698925  2.1505376]\n",
        " [ 0.0  7.5757576  81.628788  10.795455]] \n",
        " --------------------------\n",
        "\n",
        "0.9999999993200000192317133962 loss parameter (lambda)\n",
        "34"
       ]
      },
      {
       "output_type": "stream",
       "stream": "stdout",
       "text": [
        " of 100\n",
        "time taken= 967 ms\n",
        "[[ 80.882353  5.8823529  0.0  13.235294]\n",
        " [ 4.3010753  87.096774  5.3763441  3.2258065]\n",
        " [ 0.0  7.9545455  80.681818  11.363636]] \n",
        " --------------------------\n",
        "\n",
        "0.9999999993300000189488940816 loss parameter (lambda)\n",
        "35"
       ]
      },
      {
       "output_type": "stream",
       "stream": "stdout",
       "text": [
        " of 100\n",
        "time taken= 941 ms\n",
        "[[ 84.313725  4.9019608  0.0  10.784314]\n",
        " [ 2.5537634  86.827957  4.0322581  6.5860215]\n",
        " [ 0.0  8.7121212  81.439394  9.8484848]] \n",
        " --------------------------\n",
        "\n",
        "0.9999999993400000186660747670 loss parameter (lambda)\n",
        "36"
       ]
      },
      {
       "output_type": "stream",
       "stream": "stdout",
       "text": [
        " of 100\n",
        "time taken= 817 ms\n",
        "[[ 80.147059  3.6764706  0.0  16.176471]\n",
        " [ 3.8978495  86.827957  4.9731183  4.3010753]\n",
        " [ 0.0  9.0909091  77.840909  13.068182]] \n",
        " --------------------------\n",
        "\n",
        "0.9999999993500000183832554524 loss parameter (lambda)\n",
        "37"
       ]
      },
      {
       "output_type": "stream",
       "stream": "stdout",
       "text": [
        " of 100\n",
        "time taken= 920 ms\n",
        "[[ 79.901961  5.3921569  0.0  14.705882]\n",
        " [ 1.7473118  89.650538  5.5107527  3.0913978]\n",
        " [ 0.0  7.9545455  81.060606  10.984848]] \n",
        " --------------------------\n",
        "\n",
        "0.9999999993600000181004361378 loss parameter (lambda)\n",
        "38"
       ]
      },
      {
       "output_type": "stream",
       "stream": "stdout",
       "text": [
        " of 100\n",
        "time taken= 837 ms\n",
        "[[ 85.04902  3.6764706  0.0  11.27451]\n",
        " [ 2.5537634  88.172043  5.1075269  4.1666667]\n",
        " [ 0.0  7.7651515  81.818182  10.416667]] \n",
        " --------------------------\n",
        "\n",
        "0.9999999993700000178176168232 loss parameter (lambda)\n",
        "39"
       ]
      },
      {
       "output_type": "stream",
       "stream": "stdout",
       "text": [
        " of 100\n",
        "time taken= 848 ms\n",
        "[[ 77.45098  4.4117647  0.0  18.137255]\n",
        " [ 4.3010753  86.55914  4.7043011  4.4354839]\n",
        " [ 0.0  9.0909091  79.734848  11.174242]] \n",
        " --------------------------\n",
        "\n",
        "0.9999999993800000175347975086 loss parameter (lambda)\n",
        "40"
       ]
      },
      {
       "output_type": "stream",
       "stream": "stdout",
       "text": [
        " of 100\n",
        "time taken= 1315 ms\n",
        "[[ 84.558824  3.9215686  0.0  11.519608]\n",
        " [ 3.3602151  87.768817  4.7043011  4.1666667]\n",
        " [ 0.0  9.6590909  80.30303  10.037879]] \n",
        " --------------------------\n",
        "\n",
        "0.9999999993900000172519781940 loss parameter (lambda)\n",
        "41"
       ]
      },
      {
       "output_type": "stream",
       "stream": "stdout",
       "text": [
        " of 100\n",
        "time taken= 1104 ms\n",
        "[[ 83.823529  4.6568627  0.0  11.519608]\n",
        " [ 4.5698925  85.215054  4.8387097  5.3763441]\n",
        " [ 0.0  8.7121212  80.492424  10.795455]] \n",
        " --------------------------\n",
        "\n",
        "0.9999999994000000169691588794 loss parameter (lambda)\n",
        "42"
       ]
      },
      {
       "output_type": "stream",
       "stream": "stdout",
       "text": [
        " of 100\n",
        "time taken= 1158 ms\n",
        "[[ 81.372549  3.6764706  0.0  14.95098]\n",
        " [ 4.7043011  84.408602  6.8548387  4.0322581]\n",
        " [ 0.0  7.0075758  80.681818  12.310606]] \n",
        " --------------------------\n",
        "\n",
        "0.9999999994100000166863395648 loss parameter (lambda)\n",
        "43"
       ]
      },
      {
       "output_type": "stream",
       "stream": "stdout",
       "text": [
        " of 100\n",
        "time taken= 896 ms\n",
        "[[ 81.127451  6.372549  0.0  12.5]\n",
        " [ 4.7043011  84.408602  5.5107527  5.3763441]\n",
        " [ 0.0  8.9015152  80.30303  10.795455]] \n",
        " --------------------------\n",
        "\n",
        "0.9999999994200000164035202502 loss parameter (lambda)\n",
        "44"
       ]
      },
      {
       "output_type": "stream",
       "stream": "stdout",
       "text": [
        " of 100\n",
        "time taken= 929 ms\n",
        "[[ 84.068627  4.9019608  0.0  11.029412]\n",
        " [ 3.2258065  88.44086  4.7043011  3.6290323]\n",
        " [ 0.0  10.227273  78.409091  11.363636]] \n",
        " --------------------------\n",
        "\n",
        "0.9999999994300000161207009356 loss parameter (lambda)\n",
        "45"
       ]
      },
      {
       "output_type": "stream",
       "stream": "stdout",
       "text": [
        " of 100\n",
        "time taken= 843 ms\n",
        "[[ 79.656863  6.6176471  0.0  13.72549]\n",
        " [ 3.2258065  86.962366  5.7795699  4.0322581]\n",
        " [ 0.0  8.9015152  81.25  9.8484848]] \n",
        " --------------------------\n",
        "\n",
        "0.9999999994400000158378816210 loss parameter (lambda)\n",
        "46"
       ]
      },
      {
       "output_type": "stream",
       "stream": "stdout",
       "text": [
        " of 100\n",
        "time taken= 977 ms\n",
        "[[ 82.352941  3.4313725  0.0  14.215686]\n",
        " [ 3.7634409  86.693548  4.4354839  5.1075269]\n",
        " [ 0.0  8.3333333  78.977273  12.689394]] \n",
        " --------------------------\n",
        "\n",
        "0.9999999994500000155550623064 loss parameter (lambda)\n",
        "47"
       ]
      },
      {
       "output_type": "stream",
       "stream": "stdout",
       "text": [
        " of 100\n",
        "time taken= 963 ms\n",
        "[[ 84.803922  2.4509804  0.0  12.745098]\n",
        " [ 4.0322581  85.483871  5.7795699  4.7043011]\n",
        " [ 0.0  9.280303  80.492424  10.227273]] \n",
        " --------------------------\n",
        "\n",
        "0.9999999994600000152722429918 loss parameter (lambda)\n",
        "48"
       ]
      },
      {
       "output_type": "stream",
       "stream": "stdout",
       "text": [
        " of 100\n",
        "time taken= 904 ms\n",
        "[[ 82.107843  4.6568627  0.0  13.235294]\n",
        " [ 2.9569892  90.188172  3.6290323  3.2258065]\n",
        " [ 0.0  10.037879  79.734848  10.227273]] \n",
        " --------------------------\n",
        "\n",
        "0.9999999994700000149894236772 loss parameter (lambda)\n",
        "49"
       ]
      },
      {
       "output_type": "stream",
       "stream": "stdout",
       "text": [
        " of 100\n",
        "time taken= 898 ms\n",
        "[[ 84.068627  4.6568627  0.0  11.27451]\n",
        " [ 3.2258065  87.634409  5.3763441  3.7634409]\n",
        " [ 0.0  8.1439394  81.060606  10.795455]] \n",
        " --------------------------\n",
        "\n",
        "0.9999999994800000147066043626 loss parameter (lambda)\n",
        "50"
       ]
      },
      {
       "output_type": "stream",
       "stream": "stdout",
       "text": [
        " of 100\n",
        "time taken= 948 ms\n",
        "[[ 83.333333  5.1470588  0.0  11.519608]\n",
        " [ 4.3010753  86.55914  5.3763441  3.7634409]\n",
        " [ 0.0  9.6590909  80.871212  9.469697]] \n",
        " --------------------------\n",
        "\n",
        "0.9999999994900000144237850480 loss parameter (lambda)\n",
        "51"
       ]
      },
      {
       "output_type": "stream",
       "stream": "stdout",
       "text": [
        " of 100\n",
        "time taken= 934 ms\n",
        "[[ 81.862745  5.8823529  0.0  12.254902]\n",
        " [ 4.0322581  86.424731  4.5698925  4.9731183]\n",
        " [ 0.0  7.7651515  79.545455  12.689394]] \n",
        " --------------------------\n",
        "\n",
        "0.9999999995000000141409657334 loss parameter (lambda)\n",
        "52"
       ]
      },
      {
       "output_type": "stream",
       "stream": "stdout",
       "text": [
        " of 100\n",
        "time taken= 998 ms\n",
        "[[ 76.960784  5.1470588  0.0  17.892157]\n",
        " [ 3.7634409  86.827957  4.7043011  4.7043011]\n",
        " [ 0.0  6.8181818  82.386364  10.795455]] \n",
        " --------------------------\n",
        "\n",
        "0.9999999995100000138581464188 loss parameter (lambda)\n",
        "53"
       ]
      },
      {
       "output_type": "stream",
       "stream": "stdout",
       "text": [
        " of 100\n",
        "time taken= 956 ms\n",
        "[[ 79.656863  5.1470588  0.0  15.196078]\n",
        " [ 3.3602151  85.887097  5.1075269  5.6451613]\n",
        " [ 0.0  9.6590909  80.113636  10.227273]] \n",
        " --------------------------\n",
        "\n",
        "0.9999999995200000135753271042 loss parameter (lambda)\n",
        "54"
       ]
      },
      {
       "output_type": "stream",
       "stream": "stdout",
       "text": [
        " of 100\n",
        "time taken= 939 ms\n",
        "[[ 80.637255  4.6568627  0.0  14.705882]\n",
        " [ 2.9569892  88.978495  5.2419355  2.8225806]\n",
        " [ 0.0  9.8484848  79.356061  10.795455]] \n",
        " --------------------------\n",
        "\n",
        "0.9999999995300000132925077896 loss parameter (lambda)\n",
        "55"
       ]
      },
      {
       "output_type": "stream",
       "stream": "stdout",
       "text": [
        " of 100\n",
        "time taken= 843 ms\n",
        "[[ 79.166667  5.3921569  0.0  15.441176]\n",
        " [ 4.9731183  86.693548  4.3010753  4.0322581]\n",
        " [ 0.0  7.5757576  78.598485  13.825758]] \n",
        " --------------------------\n",
        "\n",
        "0.9999999995400000130096884750 loss parameter (lambda)\n",
        "56"
       ]
      },
      {
       "output_type": "stream",
       "stream": "stdout",
       "text": [
        " of 100\n",
        "time taken= 963 ms\n",
        "[[ 81.127451  4.4117647  0.0  14.460784]\n",
        " [ 3.7634409  88.037634  4.5698925  3.6290323]\n",
        " [ 0.0  10.037879  79.924242  10.037879]] \n",
        " --------------------------\n",
        "\n",
        "0.9999999995500000127268691604 loss parameter (lambda)\n",
        "57"
       ]
      },
      {
       "output_type": "stream",
       "stream": "stdout",
       "text": [
        " of 100\n",
        "time taken= 932 ms\n",
        "[[ 78.676471  5.3921569  0.0  15.931373]\n",
        " [ 2.8225806  86.290323  6.9892473  3.8978495]\n",
        " [ 0.0  7.7651515  80.681818  11.55303]] \n",
        " --------------------------\n",
        "\n",
        "0.9999999995600000124440498458 loss parameter (lambda)\n",
        "58"
       ]
      },
      {
       "output_type": "stream",
       "stream": "stdout",
       "text": [
        " of 100\n",
        "time taken= 877 ms\n",
        "[[ 81.127451  4.9019608  0.0  13.970588]\n",
        " [ 4.1666667  85.752688  5.3763441  4.7043011]\n",
        " [ 0.0  10.795455  80.681818  8.5227273]] \n",
        " --------------------------\n",
        "\n",
        "0.9999999995700000121612305312 loss parameter (lambda)\n",
        "59"
       ]
      },
      {
       "output_type": "stream",
       "stream": "stdout",
       "text": [
        " of 100\n",
        "time taken= 851 ms\n",
        "[[ 79.901961  6.6176471  0.0  13.480392]\n",
        " [ 3.3602151  88.978495  3.6290323  4.0322581]\n",
        " [ 0.0  10.227273  80.30303  9.469697]] \n",
        " --------------------------\n",
        "\n",
        "0.9999999995800000118784112166 loss parameter (lambda)\n",
        "60"
       ]
      },
      {
       "output_type": "stream",
       "stream": "stdout",
       "text": [
        " of 100\n",
        "time taken= 985 ms\n",
        "[[ 86.519608  4.4117647  0.0  9.0686275]\n",
        " [ 4.1666667  86.155914  5.1075269  4.5698925]\n",
        " [ 0.0  8.1439394  81.439394  10.416667]] \n",
        " --------------------------\n",
        "\n",
        "0.9999999995900000115955919020 loss parameter (lambda)\n",
        "61"
       ]
      },
      {
       "output_type": "stream",
       "stream": "stdout",
       "text": [
        " of 100\n",
        "time taken= 1302 ms\n",
        "[[ 80.147059  5.1470588  0.0  14.705882]\n",
        " [ 3.4946237  86.962366  5.3763441  4.1666667]\n",
        " [ 0.0  8.1439394  82.575758  9.280303]] \n",
        " --------------------------\n",
        "\n",
        "0.9999999996000000113127725874 loss parameter (lambda)\n",
        "62"
       ]
      },
      {
       "output_type": "stream",
       "stream": "stdout",
       "text": [
        " of 100\n",
        "time taken= 825 ms\n",
        "[[ 81.617647  4.6568627  0.0  13.72549]\n",
        " [ 3.3602151  84.274194  6.5860215  5.7795699]\n",
        " [ 0.0  7.7651515  82.386364  9.8484848]] \n",
        " --------------------------\n",
        "\n",
        "0.9999999996100000110299532728 loss parameter (lambda)\n",
        "63"
       ]
      },
      {
       "output_type": "stream",
       "stream": "stdout",
       "text": [
        " of 100\n",
        "time taken= 917 ms\n",
        "[[ 81.127451  4.4117647  0.0  14.460784]\n",
        " [ 4.7043011  86.962366  4.7043011  3.6290323]\n",
        " [ 0.0  10.227273  78.409091  11.363636]] \n",
        " --------------------------\n",
        "\n",
        "0.9999999996200000107471339582 loss parameter (lambda)\n",
        "64"
       ]
      },
      {
       "output_type": "stream",
       "stream": "stdout",
       "text": [
        " of 100\n",
        "time taken= 899 ms\n",
        "[[ 81.862745  4.4117647  0.0  13.72549]\n",
        " [ 3.6290323  87.768817  4.8387097  3.7634409]\n",
        " [ 0.0  10.037879  80.871212  9.0909091]] \n",
        " --------------------------\n",
        "\n",
        "0.9999999996300000104643146436 loss parameter (lambda)\n",
        "65"
       ]
      },
      {
       "output_type": "stream",
       "stream": "stdout",
       "text": [
        " of 100\n",
        "time taken= 1209 ms\n",
        "[[ 83.823529  4.6568627  0.0  11.519608]\n",
        " [ 3.7634409  87.365591  4.4354839  4.4354839]\n",
        " [ 0.0  7.5757576  80.30303  12.121212]] \n",
        " --------------------------\n",
        "\n",
        "0.9999999996400000101814953290 loss parameter (lambda)\n",
        "66"
       ]
      },
      {
       "output_type": "stream",
       "stream": "stdout",
       "text": [
        " of 100\n",
        "time taken= 927 ms\n",
        "[[ 81.372549  6.6176471  0.0  12.009804]\n",
        " [ 2.9569892  88.037634  4.5698925  4.4354839]\n",
        " [ 0.0  7.3863636  82.954545  9.6590909]] \n",
        " --------------------------\n",
        "\n",
        "0.9999999996500000098986760144 loss parameter (lambda)\n",
        "67"
       ]
      },
      {
       "output_type": "stream",
       "stream": "stdout",
       "text": [
        " of 100\n",
        "time taken= 912 ms\n",
        "[[ 82.598039  4.9019608  0.0  12.5]\n",
        " [ 3.8978495  88.575269  3.8978495  3.6290323]\n",
        " [ 0.0  10.606061  79.734848  9.6590909]] \n",
        " --------------------------\n",
        "\n",
        "0.9999999996600000096158566998 loss parameter (lambda)\n",
        "68"
       ]
      },
      {
       "output_type": "stream",
       "stream": "stdout",
       "text": [
        " of 100\n",
        "time taken= 1408 ms\n",
        "[[ 84.313725  4.4117647  0.0  11.27451]\n",
        " [ 4.9731183  84.543011  7.1236559  3.3602151]\n",
        " [ 0.0  8.7121212  81.25  10.037879]] \n",
        " --------------------------\n",
        "\n",
        "0.9999999996700000093330373852 loss parameter (lambda)\n",
        "69"
       ]
      },
      {
       "output_type": "stream",
       "stream": "stdout",
       "text": [
        " of 100\n",
        "time taken= 888 ms\n",
        "[[ 80.392157  6.372549  0.0  13.235294]\n",
        " [ 3.7634409  85.752688  5.6451613  4.8387097]\n",
        " [ 0.0  9.280303  82.386364  8.3333333]] \n",
        " --------------------------\n",
        "\n",
        "0.9999999996800000090502180706 loss parameter (lambda)\n",
        "70"
       ]
      },
      {
       "output_type": "stream",
       "stream": "stdout",
       "text": [
        " of 100\n",
        "time taken= 902 ms\n",
        "[[ 78.921569  6.8627451  0.0  14.215686]\n",
        " [ 4.4354839  85.61828  5.6451613  4.3010753]\n",
        " [ 0.0  9.6590909  79.734848  10.606061]] \n",
        " --------------------------\n",
        "\n",
        "0.9999999996900000087673987560 loss parameter (lambda)\n",
        "71"
       ]
      },
      {
       "output_type": "stream",
       "stream": "stdout",
       "text": [
        " of 100\n",
        "time taken= 1039 ms\n",
        "[[ 80.392157  6.8627451  0.0  12.745098]\n",
        " [ 3.6290323  87.903226  4.0322581  4.4354839]\n",
        " [ 0.0  10.984848  79.166667  9.8484848]] \n",
        " --------------------------\n",
        "\n",
        "0.9999999997000000084845794414 loss parameter (lambda)\n",
        "72"
       ]
      },
      {
       "output_type": "stream",
       "stream": "stdout",
       "text": [
        " of 100\n",
        "time taken= 852 ms\n",
        "[[ 82.843137  3.1862745  0.0  13.970588]\n",
        " [ 3.0913978  89.919355  4.0322581  2.9569892]\n",
        " [ 0.0  11.174242  78.787879  10.037879]] \n",
        " --------------------------\n",
        "\n",
        "0.9999999997100000082017601268 loss parameter (lambda)\n",
        "73"
       ]
      },
      {
       "output_type": "stream",
       "stream": "stdout",
       "text": [
        " of 100\n",
        "time taken= 884 ms\n",
        "[[ 84.068627  5.3921569  0.0  10.539216]\n",
        " [ 4.4354839  87.231183  4.8387097  3.4946237]\n",
        " [ 0.0  8.1439394  80.681818  11.174242]] \n",
        " --------------------------\n",
        "\n",
        "0.9999999997200000079189408122 loss parameter (lambda)\n",
        "74"
       ]
      },
      {
       "output_type": "stream",
       "stream": "stdout",
       "text": [
        " of 100\n",
        "time taken= 891 ms\n",
        "[[ 80.882353  5.3921569  0.0  13.72549]\n",
        " [ 3.4946237  88.44086  3.6290323  4.4354839]\n",
        " [ 0.0  9.0909091  82.19697  8.7121212]] \n",
        " --------------------------\n",
        "\n",
        "0.9999999997300000076361214976 loss parameter (lambda)\n",
        "75"
       ]
      },
      {
       "output_type": "stream",
       "stream": "stdout",
       "text": [
        " of 100\n",
        "time taken= 946 ms\n",
        "[[ 80.637255  7.1078431  0.0  12.254902]\n",
        " [ 4.4354839  87.634409  4.1666667  3.7634409]\n",
        " [ 0.0  9.0909091  80.492424  10.416667]] \n",
        " --------------------------\n",
        "\n",
        "0.9999999997400000073533021830 loss parameter (lambda)\n",
        "76"
       ]
      },
      {
       "output_type": "stream",
       "stream": "stdout",
       "text": [
        " of 100\n",
        "time taken= 936 ms\n",
        "[[ 84.803922  4.4117647  0.0  10.784314]\n",
        " [ 3.2258065  87.096774  5.1075269  4.5698925]\n",
        " [ 0.0  8.3333333  82.19697  9.469697]] \n",
        " --------------------------\n",
        "\n",
        "0.9999999997500000070704828684 loss parameter (lambda)\n",
        "77"
       ]
      },
      {
       "output_type": "stream",
       "stream": "stdout",
       "text": [
        " of 100\n",
        "time taken= 984 ms\n",
        "[[ 81.862745  4.1666667  0.0  13.970588]\n",
        " [ 3.0913978  88.575269  4.3010753  4.0322581]\n",
        " [ 0.0  8.3333333  81.818182  9.8484848]] \n",
        " --------------------------\n",
        "\n",
        "0.9999999997600000067876635538 loss parameter (lambda)\n",
        "78"
       ]
      },
      {
       "output_type": "stream",
       "stream": "stdout",
       "text": [
        " of 100\n",
        "time taken= 886 ms\n",
        "[[ 86.27451  3.4313725  0.0  10.294118]\n",
        " [ 5.7795699  86.693548  5.5107527  2.016129]\n",
        " [ 0.0  10.984848  81.628788  7.3863636]] \n",
        " --------------------------\n",
        "\n",
        "0.9999999997700000065048442392 loss parameter (lambda)\n",
        "79"
       ]
      },
      {
       "output_type": "stream",
       "stream": "stdout",
       "text": [
        " of 100\n",
        "time taken= 935 ms\n",
        "[[ 84.803922  5.8823529  0.0  9.3137255]\n",
        " [ 4.3010753  87.5  5.2419355  2.9569892]\n",
        " [ 0.0  7.7651515  82.19697  10.037879]] \n",
        " --------------------------\n",
        "\n",
        "0.9999999997800000062220249246 loss parameter (lambda)\n",
        "80"
       ]
      },
      {
       "output_type": "stream",
       "stream": "stdout",
       "text": [
        " of 100\n",
        "time taken= 916 ms\n",
        "[[ 81.617647  6.372549  0.0  12.009804]\n",
        " [ 3.4946237  90.053763  4.0322581  2.4193548]\n",
        " [ 0.0  10.606061  80.492424  8.9015152]] \n",
        " --------------------------\n",
        "\n",
        "0.9999999997900000059392056100 loss parameter (lambda)\n",
        "81"
       ]
      },
      {
       "output_type": "stream",
       "stream": "stdout",
       "text": [
        " of 100\n",
        "time taken= 973 ms\n",
        "[[ 85.539216  3.1862745  0.0  11.27451]\n",
        " [ 4.1666667  87.5  4.7043011  3.6290323]\n",
        " [ 0.0  7.5757576  82.386364  10.037879]] \n",
        " --------------------------\n",
        "\n",
        "0.9999999998000000056563862954 loss parameter (lambda)\n",
        "82"
       ]
      },
      {
       "output_type": "stream",
       "stream": "stdout",
       "text": [
        " of 100\n",
        "time taken= 965 ms\n",
        "[[ 83.333333  4.4117647  0.0  12.254902]\n",
        " [ 3.4946237  89.784946  3.6290323  3.0913978]\n",
        " [ 0.0  8.1439394  84.090909  7.7651515]] \n",
        " --------------------------\n",
        "\n",
        "0.9999999998100000053735669808 loss parameter (lambda)\n",
        "83"
       ]
      },
      {
       "output_type": "stream",
       "stream": "stdout",
       "text": [
        " of 100\n",
        "time taken= 977 ms\n",
        "[[ 83.088235  5.1470588  0.0  11.764706]\n",
        " [ 4.4354839  85.483871  5.3763441  4.7043011]\n",
        " [ 0.0  9.6590909  81.628788  8.7121212]] \n",
        " --------------------------\n",
        "\n",
        "0.9999999998200000050907476662 loss parameter (lambda)\n",
        "84"
       ]
      },
      {
       "output_type": "stream",
       "stream": "stdout",
       "text": [
        " of 100\n",
        "time taken= 916 ms\n",
        "[[ 82.598039  5.3921569  0.0  12.009804]\n",
        " [ 3.3602151  87.768817  5.1075269  3.7634409]\n",
        " [ 0.0  9.0909091  80.30303  10.606061]] \n",
        " --------------------------\n",
        "\n",
        "0.9999999998300000048079283516 loss parameter (lambda)\n",
        "85"
       ]
      },
      {
       "output_type": "stream",
       "stream": "stdout",
       "text": [
        " of 100\n",
        "time taken= 849 ms\n",
        "[[ 85.539216  4.9019608  0.0  9.5588235]\n",
        " [ 4.0322581  87.634409  4.9731183  3.3602151]\n",
        " [ 0.0  10.416667  81.25  8.3333333]] \n",
        " --------------------------\n",
        "\n",
        "0.9999999998400000045251090370 loss parameter (lambda)\n",
        "86"
       ]
      },
      {
       "output_type": "stream",
       "stream": "stdout",
       "text": [
        " of 100\n",
        "time taken= 906 ms\n",
        "[[ 80.147059  5.3921569  0.0  14.460784]\n",
        " [ 3.4946237  88.709677  5.2419355  2.5537634]\n",
        " [ 0.0  7.9545455  83.901515  8.1439394]] \n",
        " --------------------------\n",
        "\n",
        "0.9999999998500000042422897224 loss parameter (lambda)\n",
        "87"
       ]
      },
      {
       "output_type": "stream",
       "stream": "stdout",
       "text": [
        " of 100\n",
        "time taken= 1425 ms\n",
        "[[ 81.617647  5.1470588  0.0  13.235294]\n",
        " [ 4.5698925  87.903226  5.1075269  2.4193548]\n",
        " [ 0.0  9.0909091  80.30303  10.606061]] \n",
        " --------------------------\n",
        "\n",
        "0.9999999998600000039594704078 loss parameter (lambda)\n",
        "88"
       ]
      },
      {
       "output_type": "stream",
       "stream": "stdout",
       "text": [
        " of 100\n",
        "time taken= 978 ms\n",
        "[[ 80.392157  6.8627451  0.0  12.745098]\n",
        " [ 2.9569892  88.978495  4.0322581  4.0322581]\n",
        " [ 0.0  8.5227273  82.575758  8.9015152]] \n",
        " --------------------------\n",
        "\n",
        "0.9999999998700000036766510932 loss parameter (lambda)\n",
        "89"
       ]
      },
      {
       "output_type": "stream",
       "stream": "stdout",
       "text": [
        " of 100\n",
        "time taken= 1262 ms\n",
        "[[ 82.598039  4.1666667  0.0  13.235294]\n",
        " [ 3.7634409  88.709677  4.9731183  2.5537634]\n",
        " [ 0.0  8.1439394  83.712121  8.1439394]] \n",
        " --------------------------\n",
        "\n",
        "0.9999999998800000033938317786 loss parameter (lambda)\n",
        "90"
       ]
      },
      {
       "output_type": "stream",
       "stream": "stdout",
       "text": [
        " of 100\n",
        "time taken= 1100 ms\n",
        "[[ 86.519608  4.9019608  0.0  8.5784314]\n",
        " [ 2.4193548  90.860215  4.1666667  2.5537634]\n",
        " [ 0.0  7.7651515  84.280303  7.9545455]] \n",
        " --------------------------\n",
        "\n",
        "0.9999999998900000031110124640 loss parameter (lambda)\n",
        "91"
       ]
      },
      {
       "output_type": "stream",
       "stream": "stdout",
       "text": [
        " of 100\n",
        "time taken= 966 ms\n",
        "[[ 85.294118  5.1470588  0.0  9.5588235]\n",
        " [ 3.0913978  89.38172  5.1075269  2.4193548]\n",
        " [ 0.0  8.9015152  81.060606  10.037879]] \n",
        " --------------------------\n",
        "\n",
        "0.9999999999000000028281931494 loss parameter (lambda)\n",
        "92"
       ]
      },
      {
       "output_type": "stream",
       "stream": "stdout",
       "text": [
        " of 100\n",
        "time taken= 900 ms\n",
        "[[ 82.107843  6.372549  0.0  11.519608]\n",
        " [ 4.1666667  88.844086  3.4946237  3.4946237]\n",
        " [ 0.0  12.310606  79.356061  8.3333333]] \n",
        " --------------------------\n",
        "\n",
        "0.9999999999100000025453738348 loss parameter (lambda)\n",
        "93"
       ]
      },
      {
       "output_type": "stream",
       "stream": "stdout",
       "text": [
        " of 100\n",
        "time taken= 998 ms\n",
        "[[ 82.598039  5.1470588  0.0  12.254902]\n",
        " [ 4.3010753  91.129032  2.1505376  2.4193548]\n",
        " [ 0.0  9.8484848  81.439394  8.7121212]] \n",
        " --------------------------\n",
        "\n",
        "0.9999999999200000022625545202 loss parameter (lambda)\n",
        "94"
       ]
      },
      {
       "output_type": "stream",
       "stream": "stdout",
       "text": [
        " of 100\n",
        "time taken= 1017 ms\n",
        "[[ 81.127451  6.372549  0.0  12.5]\n",
        " [ 4.4354839  87.768817  5.3763441  2.4193548]\n",
        " [ 0.0  7.5757576  84.280303  8.1439394]] \n",
        " --------------------------\n",
        "\n",
        "0.9999999999300000019797352056 loss parameter (lambda)\n",
        "95"
       ]
      },
      {
       "output_type": "stream",
       "stream": "stdout",
       "text": [
        " of 100\n",
        "time taken= 970 ms\n",
        "[[ 85.04902  6.372549  0.0  8.5784314]\n",
        " [ 2.5537634  91.129032  4.1666667  2.1505376]\n",
        " [ 0.0  9.0909091  81.439394  9.469697]] \n",
        " --------------------------\n",
        "\n",
        "0.9999999999400000016969158910 loss parameter (lambda)\n",
        "96"
       ]
      },
      {
       "output_type": "stream",
       "stream": "stdout",
       "text": [
        " of 100\n",
        "time taken= 1110 ms\n",
        "[[ 82.352941  7.3529412  0.0  10.294118]\n",
        " [ 3.6290323  89.112903  5.9139785  1.344086]\n",
        " [ 0.0  9.469697  83.522727  7.0075758]] \n",
        " --------------------------\n",
        "\n",
        "0.9999999999500000014140965764 loss parameter (lambda)\n",
        "97"
       ]
      },
      {
       "output_type": "stream",
       "stream": "stdout",
       "text": [
        " of 100\n",
        "time taken= 1033 ms\n",
        "[[ 85.784314  4.6568627  0.0  9.5588235]\n",
        " [ 4.1666667  87.768817  5.6451613  2.4193548]\n",
        " [ 0.0  7.0075758  86.174242  6.8181818]] \n",
        " --------------------------\n",
        "\n",
        "0.9999999999600000011312772618 loss parameter (lambda)\n",
        "98"
       ]
      },
      {
       "output_type": "stream",
       "stream": "stdout",
       "text": [
        " of 100\n",
        "time taken= 946 ms\n",
        "[[ 87.009804  4.1666667  0.0  8.8235294]\n",
        " [ 5.1075269  87.365591  5.5107527  2.016129]\n",
        " [ 0.0  10.795455  79.924242  9.280303]] \n",
        " --------------------------\n",
        "\n",
        "0.9999999999700000008484579472 loss parameter (lambda)\n",
        "99"
       ]
      },
      {
       "output_type": "stream",
       "stream": "stdout",
       "text": [
        " of 100\n",
        "time taken= 1357 ms\n",
        "[[ 86.27451  6.6176471  0.0  7.1078431]\n",
        " [ 3.2258065  88.844086  4.8387097  3.0913978]\n",
        " [ 0.0  10.037879  83.712121  6.25]] \n",
        " --------------------------\n",
        "\n",
        "0.9999999999800000005656386326 loss parameter (lambda)\n",
        "100"
       ]
      },
      {
       "output_type": "stream",
       "stream": "stdout",
       "text": [
        " of 100\n",
        "time taken= 960 ms\n",
        "[[ 85.784314  4.6568627  0.0  9.5588235]\n",
        " [ 4.0322581  88.709677  4.5698925  2.688172]\n",
        " [ 0.0  8.1439394  82.575758  9.280303]] \n",
        " --------------------------\n",
        "\n",
        "0.9999999999900000002828193180 loss parameter (lambda)\n",
        "**********\n",
        "Total Time Taken: 0 h, 1 m, 42 secs\n"
       ]
      }
     ],
     "prompt_number": 10
    },
    {
     "cell_type": "code",
     "collapsed": false,
     "input": [
      "plotAnalisis()"
     ],
     "language": "python",
     "metadata": {},
     "outputs": [
      {
       "metadata": {},
       "output_type": "display_data",
       "png": "[encoded data removed]",
       "text": [
        "<matplotlib.figure.Figure at 0x7f83f4e4a250>"
       ]
      },
      {
       "output_type": "stream",
       "stream": "stdout",
       "text": [
        "\n",
        "\n",
        "\n"
       ]
      },
      {
       "metadata": {},
       "output_type": "display_data",
       "png": "[encoded data removed]",
       "text": [
        "<matplotlib.figure.Figure at 0x7f83f29a7d50>"
       ]
      },
      {
       "output_type": "stream",
       "stream": "stdout",
       "text": [
        "\n",
        "\n",
        "\n"
       ]
      },
      {
       "metadata": {},
       "output_type": "display_data",
       "png": "[encoded data removed]",
       "text": [
        "<matplotlib.figure.Figure at 0x7f83f2821d90>"
       ]
      },
      {
       "output_type": "stream",
       "stream": "stdout",
       "text": [
        "\n",
        "\n",
        "\n"
       ]
      },
      {
       "metadata": {},
       "output_type": "display_data",
       "png": "[encoded data removed]",
       "text": [
        "<matplotlib.figure.Figure at 0x7f83f270a3d0>"
       ]
      }
     ],
     "prompt_number": 11
    },
    {
     "cell_type": "code",
     "collapsed": false,
     "input": [],
     "language": "python",
     "metadata": {},
     "outputs": []
    }
   ],
   "metadata": {}
  }
 ]
}
